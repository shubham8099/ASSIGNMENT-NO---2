{
 "cells": [
  {
   "cell_type": "raw",
   "id": "76c2ac8f-096b-41dc-9fdb-3a35be6dd3c0",
   "metadata": {},
   "source": [
    "ASSIGMENT NO - 2 "
   ]
  },
  {
   "cell_type": "raw",
   "id": "cbbcd87f-9595-44a2-84da-bc3ebc53f04d",
   "metadata": {},
   "source": [
    "Q1 - HOW DO YOU COMMENT CODE IN PYTHON.WHAT ARE THE DIFFERENT TYPES OF COMMENTS ."
   ]
  },
  {
   "cell_type": "raw",
   "id": "1ac70b70-9721-40e9-82af-285295e28257",
   "metadata": {},
   "source": [
    "ANSWER - we are taking two has like ## to use an comment \n",
    "\n",
    "there are basically three types of comment \n",
    "(i) = single line comment like ##my name is shubham shah\n",
    "(ii) = multi-line comment using ''' at each of the end\n",
    "(iii) = docstring comment using \"\"\"my name is shubham shah\"\"\""
   ]
  },
  {
   "cell_type": "raw",
   "id": "c0366b21-a10b-410c-b573-ae23dfa73f99",
   "metadata": {},
   "source": [
    "Q2 - WHAT ARE THE VARIABLE IN THE PYTHON. HOW DO YOU ASSIGN VALUE TO VARIABLE  "
   ]
  },
  {
   "cell_type": "raw",
   "id": "05346a7f-5526-45ad-b7b4-9043df7c5fef",
   "metadata": {},
   "source": [
    "ANSWER - variables is the name of memory location where we can stored different types of value.\n",
    "\n",
    "    S = 10  Also shubham = 10\n",
    "    \n",
    "takeing some examples.    "
   ]
  },
  {
   "cell_type": "code",
   "execution_count": 5,
   "id": "c2254671-afe7-4c8e-85e2-9dd33b9e6c41",
   "metadata": {},
   "outputs": [],
   "source": [
    "shubham = 10"
   ]
  },
  {
   "cell_type": "code",
   "execution_count": 7,
   "id": "d25072d6-412a-498f-9a92-28d0bab22edb",
   "metadata": {},
   "outputs": [],
   "source": [
    "s = 10"
   ]
  },
  {
   "cell_type": "code",
   "execution_count": 8,
   "id": "f608e432-9df5-4836-8ecd-f25c1158a0a4",
   "metadata": {},
   "outputs": [
    {
     "data": {
      "text/plain": [
       "11"
      ]
     },
     "execution_count": 8,
     "metadata": {},
     "output_type": "execute_result"
    }
   ],
   "source": [
    "s + 1"
   ]
  },
  {
   "cell_type": "raw",
   "id": "23975255-1467-4ba2-bf05-cd48e14940f1",
   "metadata": {},
   "source": [
    "Q3 - HOW DO YOU CONVERT ONE TYPE OF DATA TO ANOTHER IN PYTHON ."
   ]
  },
  {
   "cell_type": "code",
   "execution_count": 18,
   "id": "13b86c6d-95ea-47d7-975d-3c1b9297b29a",
   "metadata": {},
   "outputs": [
    {
     "data": {
      "text/plain": [
       "3762"
      ]
     },
     "execution_count": 18,
     "metadata": {},
     "output_type": "execute_result"
    }
   ],
   "source": [
    "##let us taking an examples we taking an floating no and change into integer.\n",
    "\n",
    "x = 3762.36732\n",
    "int(x)"
   ]
  },
  {
   "cell_type": "code",
   "execution_count": 16,
   "id": "d7949baa-60a2-4d9c-9241-064316716e88",
   "metadata": {},
   "outputs": [],
   "source": [
    "## now let us taking another data type changeing"
   ]
  },
  {
   "cell_type": "code",
   "execution_count": 21,
   "id": "78b68b92-e4a2-4757-b1d2-49eaa16ea5a5",
   "metadata": {},
   "outputs": [
    {
     "data": {
      "text/plain": [
       "<zip at 0x7fa798284840>"
      ]
     },
     "execution_count": 21,
     "metadata": {},
     "output_type": "execute_result"
    }
   ],
   "source": [
    "s = [2,3,4,5,6,7,]\n",
    "## we are taking an list data type and we change into dictinory\n",
    "zip(s)"
   ]
  },
  {
   "cell_type": "raw",
   "id": "bbe10989-bb32-4256-8df7-7ff9379dee8c",
   "metadata": {},
   "source": [
    "Q5. Given a list my_list = [1, 2, 3, 4, 5], write the code to slice the list and obtain the sub-list [2, 3]"
   ]
  },
  {
   "cell_type": "code",
   "execution_count": 1,
   "id": "f6363893-9809-48e9-9f82-d2ea9fb1e27c",
   "metadata": {},
   "outputs": [],
   "source": [
    "my_list = [1,2,3,4,5]"
   ]
  },
  {
   "cell_type": "code",
   "execution_count": 7,
   "id": "b040160f-4aa8-4389-9038-2552759bbb50",
   "metadata": {},
   "outputs": [
    {
     "data": {
      "text/plain": [
       "[2, 3]"
      ]
     },
     "execution_count": 7,
     "metadata": {},
     "output_type": "execute_result"
    }
   ],
   "source": [
    "my_list[1:3]"
   ]
  },
  {
   "cell_type": "raw",
   "id": "b9258131-44e6-42be-914c-077d0987b76c",
   "metadata": {},
   "source": [
    "Q6. What is a complex number in mathematics, and how is it represented in Python ?"
   ]
  },
  {
   "cell_type": "raw",
   "id": "e1013fa4-b2bc-4cc4-86f3-65792b69c4e5",
   "metadata": {},
   "source": [
    "ANSWER - A COMPLEX NUMBER IS A IMAGINARY NUMBER WHICH HAVE TWO PART,\n",
    "         IMAGINARY & REAL NUMBER.\n",
    "    DENOTED BY - 4+5i where , 5i is imaginary & 4 is real number.\n",
    "    \n",
    "    \n",
    "A complex number in python is denoted by a+ib .\n",
    "let us we taking an example ,\n",
    "\n"
   ]
  },
  {
   "cell_type": "code",
   "execution_count": 8,
   "id": "b395c30a-e79c-430b-a638-53a089a4f4b4",
   "metadata": {},
   "outputs": [],
   "source": [
    "s = 4+5j"
   ]
  },
  {
   "cell_type": "code",
   "execution_count": 9,
   "id": "55fff247-14d8-4bad-aea2-32d2b9038892",
   "metadata": {},
   "outputs": [
    {
     "data": {
      "text/plain": [
       "complex"
      ]
     },
     "execution_count": 9,
     "metadata": {},
     "output_type": "execute_result"
    }
   ],
   "source": [
    "type(s)"
   ]
  },
  {
   "cell_type": "raw",
   "id": "194bb94c-8f14-4f20-8da2-aef55804e965",
   "metadata": {},
   "source": [
    "Here we can see that type of s is complex"
   ]
  },
  {
   "cell_type": "raw",
   "id": "aba877e7-6ddb-455a-b43c-d7b69072604a",
   "metadata": {},
   "source": [
    "Q7. What is the correct way to declare a variable named age and assign the value 25 to it?"
   ]
  },
  {
   "cell_type": "code",
   "execution_count": 34,
   "id": "8a4fc4e0-7fec-4657-bc52-72400c6d42d9",
   "metadata": {},
   "outputs": [],
   "source": [
    "age = 25"
   ]
  },
  {
   "cell_type": "code",
   "execution_count": 35,
   "id": "2efd057f-6565-45d8-8141-397ad2e05b66",
   "metadata": {},
   "outputs": [
    {
     "data": {
      "text/plain": [
       "25"
      ]
     },
     "execution_count": 35,
     "metadata": {},
     "output_type": "execute_result"
    }
   ],
   "source": [
    "age"
   ]
  },
  {
   "cell_type": "raw",
   "id": "ce2bf66f-2b24-4259-a8d7-545080650cb0",
   "metadata": {},
   "source": [
    "Q8. Q8. Declare a variable named price and assign the value 9.99 to it. What data type does this variable belong to .\n",
    "    "
   ]
  },
  {
   "cell_type": "code",
   "execution_count": 37,
   "id": "24dea9d4-9613-4e75-bcac-47b5792e1793",
   "metadata": {},
   "outputs": [],
   "source": [
    "price = 9.99"
   ]
  },
  {
   "cell_type": "code",
   "execution_count": 38,
   "id": "e7eee3fc-b22f-40de-8f1d-2fabf0566315",
   "metadata": {},
   "outputs": [
    {
     "name": "stdout",
     "output_type": "stream",
     "text": [
      "9.99\n"
     ]
    }
   ],
   "source": [
    "print(price)"
   ]
  },
  {
   "cell_type": "raw",
   "id": "8b318cf7-4688-4035-ab6a-75737422f1d6",
   "metadata": {},
   "source": [
    "the data type of price is floating number "
   ]
  },
  {
   "cell_type": "raw",
   "id": "940ce0ff-6c13-48a0-b50b-7746d92b66dd",
   "metadata": {},
   "source": [
    "Q9. Create a variable named name and assign your full name to it as a string. How would you print the value of this variable ."
   ]
  },
  {
   "cell_type": "code",
   "execution_count": 40,
   "id": "3aa78de6-a60e-4c3f-8dd0-1b0007ab0509",
   "metadata": {},
   "outputs": [],
   "source": [
    "name = \"SHUBHAM SHAH\""
   ]
  },
  {
   "cell_type": "code",
   "execution_count": 62,
   "id": "9c31f427-2668-44e1-8b5a-b3873dddb371",
   "metadata": {},
   "outputs": [
    {
     "name": "stdout",
     "output_type": "stream",
     "text": [
      "12\n"
     ]
    }
   ],
   "source": [
    "print(len(name))"
   ]
  },
  {
   "cell_type": "raw",
   "id": "6ec7fdbe-c7db-444b-a5bd-954236cdc05e",
   "metadata": {},
   "source": [
    "Q10. Given the string \"Hello, World!\", extract the substring \"World\"."
   ]
  },
  {
   "cell_type": "code",
   "execution_count": 63,
   "id": "a82e6010-3d71-47e6-a517-82de96ea7350",
   "metadata": {},
   "outputs": [],
   "source": [
    "s = \"hello world\""
   ]
  },
  {
   "cell_type": "code",
   "execution_count": 65,
   "id": "bd365f9a-17d1-4a10-9e9e-1d8242b20ecb",
   "metadata": {},
   "outputs": [
    {
     "data": {
      "text/plain": [
       "'world'"
      ]
     },
     "execution_count": 65,
     "metadata": {},
     "output_type": "execute_result"
    }
   ],
   "source": [
    "s[6:11]"
   ]
  },
  {
   "cell_type": "raw",
   "id": "ee703cf2-4ea8-42fd-a27b-0efbc9c0bad3",
   "metadata": {},
   "source": [
    "Q11. Create a variable named \"is_student\" and assign it a boolean value indicating whether you are currently a student or not ."
   ]
  },
  {
   "cell_type": "code",
   "execution_count": 66,
   "id": "e6b7e8b0-fb66-4979-bed7-53f26097e5ee",
   "metadata": {},
   "outputs": [],
   "source": [
    "s = \"is_student\""
   ]
  },
  {
   "cell_type": "code",
   "execution_count": 67,
   "id": "cc2af727-7a1a-4d5d-982d-da3fbc9a7465",
   "metadata": {},
   "outputs": [
    {
     "data": {
      "text/plain": [
       "True"
      ]
     },
     "execution_count": 67,
     "metadata": {},
     "output_type": "execute_result"
    }
   ],
   "source": [
    "bool(s)"
   ]
  },
  {
   "cell_type": "raw",
   "id": "89df6131-4cd2-4d18-973b-fcf14e7712db",
   "metadata": {},
   "source": []
  }
 ],
 "metadata": {
  "kernelspec": {
   "display_name": "Python 3 (ipykernel)",
   "language": "python",
   "name": "python3"
  },
  "language_info": {
   "codemirror_mode": {
    "name": "ipython",
    "version": 3
   },
   "file_extension": ".py",
   "mimetype": "text/x-python",
   "name": "python",
   "nbconvert_exporter": "python",
   "pygments_lexer": "ipython3",
   "version": "3.10.8"
  }
 },
 "nbformat": 4,
 "nbformat_minor": 5
}
